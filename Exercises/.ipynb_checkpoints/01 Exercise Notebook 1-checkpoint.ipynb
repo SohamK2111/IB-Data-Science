{
 "cells": [
  {
   "cell_type": "markdown",
   "metadata": {},
   "source": [
    "# Exercise 1\n",
    "\n",
    "We first load a dataset and examine its dimensions."
   ]
  },
  {
   "cell_type": "code",
   "execution_count": null,
   "metadata": {},
   "outputs": [],
   "source": [
    "# If you are running this on Google Colab, uncomment and run the following lines; otherwise ignore this cell\n",
    "# from google.colab import drive\n",
    "# drive.mount('/content/drive')"
   ]
  },
  {
   "cell_type": "code",
   "execution_count": 1,
   "metadata": {},
   "outputs": [
    {
     "data": {
      "text/plain": [
       "(70, 2)"
      ]
     },
     "execution_count": 1,
     "metadata": {},
     "output_type": "execute_result"
    }
   ],
   "source": [
    "import math\n",
    "import numpy as np\n",
    "\n",
    "xy_data = np.load('Ex1_polyreg_data.npy')\n",
    "# If running on Google Colab change path to '/content/drive/MyDrive/IB-Data-Science/Exercises/Ex1_polyreg_data.npy'\n",
    "\n",
    "np.shape(xy_data)"
   ]
  },
  {
   "cell_type": "markdown",
   "metadata": {},
   "source": [
    "The matrix `xy_data` contains $70$ rows, each a data point of the form $(x_i,y_i)$ for $i=1, \\ldots, 70$."
   ]
  },
  {
   "cell_type": "markdown",
   "metadata": {},
   "source": [
    "### 1a) Plot the data in a scatterplot."
   ]
  },
  {
   "cell_type": "code",
   "execution_count": 6,
   "metadata": {},
   "outputs": [],
   "source": [
    "import matplotlib.pyplot as plt\n",
    "# Your code for scatterplot here\n",
    "\n"
   ]
  },
  {
   "cell_type": "markdown",
   "metadata": {},
   "source": [
    "### 1b) Write a function `polyreg` to fit a polynomial of a given order to a dataset. \n",
    "The inputs to the function are a data matrix of dimension $N \\times 2$,  and $k \\geq 0$, the order of the polynomial.   The function should compute the coefficients of the polynomial $\\beta_0 + \\beta_1 x +  \\ldots  +\\beta_k x^{k}$ via least squares regression, and should return the coefficient vector, the fit, and the vector of residuals. \n",
    "\n",
    "If specified the degree $k$ is greater than or equal to $N$, then the function must fit an order $(N-1)$ polynomial and set the remaining coefficients to zero.\n",
    "\n",
    "**NOTE**: You are *not* allowed to use the built-in function `np.polyfit`."
   ]
  },
  {
   "cell_type": "code",
   "execution_count": 10,
   "metadata": {},
   "outputs": [],
   "source": [
    "def polyreg(data_matrix, k)\n",
    "    # Your code here\n",
    "    # The function should return the the coefficient vector beta, the fit, and the vector of residuals\n",
    "    "
   ]
  },
  {
   "cell_type": "markdown",
   "metadata": {},
   "source": [
    "Use the tests below to check the outputs of the function you have written:"
   ]
  },
  {
   "cell_type": "code",
   "execution_count": null,
   "metadata": {},
   "outputs": [],
   "source": [
    "# Some tests to make sure your function is working correctly\n",
    "\n",
    "xcol = np.arange(-1, 1.05, 0.1)\n",
    "ycol = 2 - 7*xcol + 3*(xcol**2)  # We are generating data accoridng to y = 2 - 7x + 3x^2\n",
    "test_matrix = np.transpose(np.vstack((xcol,ycol)))\n",
    "test_matrix.shape\n",
    "\n",
    "beta_test = polyreg(test_matrix, k=2)[0] \n",
    "assert((np.round(beta_test[0], 3) == 2) and (np.round(beta_test[1], 3) == -7) and (np.round(beta_test[2], 3) == 3))  \n",
    "# We want to check that using the function with k=2 recovers the coefficients exactly\n",
    "\n",
    "# Now check the zeroth order fit, i.e., the function gives the correct output with k=0\n",
    "beta_test = polyreg(test_matrix, k=0)[0]\n",
    "res_test = polyreg(test_matrix, k=0)[2] #the last output of the function gives the vector of residuals\n",
    "\n",
    "assert(np.round(beta_test, 3) == 3.1)\n",
    "assert(np.round(np.linalg.norm(res_test), 3) == 19.937)"
   ]
  },
  {
   "cell_type": "markdown",
   "metadata": {},
   "source": [
    "### 1c) Use `polyreg` to fit polynomial models for the data in `xy_data` for $k=2,3,4$:\n",
    "\n",
    "- Plot the fits for the three cases on the same plot together with the scatterplot of the data. The plots should be labelled and a legend included. \n",
    "- Compute and print the SSE and $R^2$ coefficient for each of the three cases.\n",
    "- Which of the three models you would choose? Briefly justify your choice."
   ]
  },
  {
   "cell_type": "code",
   "execution_count": null,
   "metadata": {},
   "outputs": [],
   "source": [
    "#Your code here\n",
    "\n"
   ]
  },
  {
   "cell_type": "markdown",
   "metadata": {},
   "source": [
    " #### State which model you choose and briefly justify your choice.\n",
    " \n",
    " \n",
    " < fill in your answer in this cell.>\n",
    " \n",
    " "
   ]
  },
  {
   "cell_type": "markdown",
   "metadata": {},
   "source": [
    "### 1d)  For the model you have chosen in the previous part (either $k=2/3/4)$:\n",
    "\n",
    "- Plot the residuals in a scatter plot. \n",
    "- Plot a histogram of the residuals along with a Gaussian pdf with zero mean and the same standard deviation as the residuals."
   ]
  },
  {
   "cell_type": "code",
   "execution_count": 2,
   "metadata": {},
   "outputs": [],
   "source": [
    "#Your code here\n",
    "\n"
   ]
  }
 ],
 "metadata": {
  "kernelspec": {
   "display_name": "Python 3",
   "language": "python",
   "name": "python3"
  },
  "language_info": {
   "codemirror_mode": {
    "name": "ipython",
    "version": 3
   },
   "file_extension": ".py",
   "mimetype": "text/x-python",
   "name": "python",
   "nbconvert_exporter": "python",
   "pygments_lexer": "ipython3",
   "version": "3.7.4"
  }
 },
 "nbformat": 4,
 "nbformat_minor": 2
}
